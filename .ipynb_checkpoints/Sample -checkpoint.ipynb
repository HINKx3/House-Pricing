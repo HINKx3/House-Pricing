{
 "cells": [
  {
   "cell_type": "code",
   "execution_count": 11,
   "id": "5c9240da-d44a-4883-9a58-b1918886fb36",
   "metadata": {},
   "outputs": [
    {
     "ename": "SyntaxError",
     "evalue": "'(' was never closed (3821775475.py, line 29)",
     "output_type": "error",
     "traceback": [
      "\u001b[0;36m  Cell \u001b[0;32mIn[11], line 29\u001b[0;36m\u001b[0m\n\u001b[0;31m    X_test = pd.concat([numerical_data[len(train_data):].reset_index(drop=True), pd.DataFrame(categorical_encoded[len(train_data):]).reset_index(drop=True)]\u001b[0m\n\u001b[0m                      ^\u001b[0m\n\u001b[0;31mSyntaxError\u001b[0m\u001b[0;31m:\u001b[0m '(' was never closed\n"
     ]
    }
   ],
   "source": [
    "import pandas as pd\n",
    "from sklearn.model_selection import train_test_split\n",
    "from sklearn.svm import SVR\n",
    "from sklearn.metrics import mean_squared_error\n",
    "from sklearn.preprocessing import OneHotEncoder\n",
    "\n",
    "# Load dataset\n",
    "train_data = pd.read_csv('/Users/ytuo/Desktop/2023 FALL/ece-9063/House-Pricing/train.csv')\n",
    "test_data = pd.read_csv('/Users/ytuo/Desktop/2023 FALL/ece-9063/House-Pricing/test.csv')\n",
    "\n",
    "# Preprocess data\n",
    "# Assuming you have categorical features to encode, and 'SalePrice' is the target\n",
    "categorical_cols = train_data.select_dtypes(include=['object']).columns\n",
    "encoder = OneHotEncoder(sparse=False, handle_unknown='ignore')\n",
    "\n",
    "# Drop the 'SalePrice' column from the train data\n",
    "X_train = train_data.drop(['SalePrice'], axis=1)\n",
    "y_train = train_data['SalePrice']\n",
    "\n",
    "# Concatenate training and testing data to ensure consistent one-hot encoding\n",
    "concatenated_data = pd.concat([X_train, test_data], axis=0)\n",
    "categorical_data = concatenated_data[categorical_cols]\n",
    "numerical_data = concatenated_data.drop(categorical_cols, axis=1)\n",
    "\n",
    "# One-hot encode the categorical data\n",
    "categorical_encoded = encoder.fit_transform(categorical_data)\n",
    "\n",
    "# Split back into train and test\n",
    "X_test = pd.concat([numerical_data[len(train_data):].reset_index(drop=True), pd.DataFrame(categorical_encoded[len(train_data):]).reset_index(drop=True)])\n",
    "\n",
    "# Train model\n",
    "model = SVR(kernel='linear')\n",
    "model.fit(X_train, y_train)\n",
    "\n",
    "# Make predictions\n",
    "predictions = model.predict(X_test)\n",
    "\n",
    "# You don't need 'y_test' for the test data\n",
    "\n",
    "# Print or use 'predictions' as needed for further analysis\n"
   ]
  },
  {
   "cell_type": "code",
   "execution_count": null,
   "id": "b57f28f6-68c3-4396-9063-c588a6bcc235",
   "metadata": {},
   "outputs": [],
   "source": []
  }
 ],
 "metadata": {
  "kernelspec": {
   "display_name": "Python 3 (ipykernel)",
   "language": "python",
   "name": "python3"
  },
  "language_info": {
   "codemirror_mode": {
    "name": "ipython",
    "version": 3
   },
   "file_extension": ".py",
   "mimetype": "text/x-python",
   "name": "python",
   "nbconvert_exporter": "python",
   "pygments_lexer": "ipython3",
   "version": "3.11.5"
  }
 },
 "nbformat": 4,
 "nbformat_minor": 5
}
